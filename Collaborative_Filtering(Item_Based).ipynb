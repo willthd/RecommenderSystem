{
  "nbformat": 4,
  "nbformat_minor": 0,
  "metadata": {
    "colab": {
      "name": "Collaborative Filtering(Item Based)",
      "provenance": [],
      "collapsed_sections": []
    },
    "kernelspec": {
      "name": "python3",
      "display_name": "Python 3"
    }
  },
  "cells": [
    {
      "cell_type": "code",
      "metadata": {
        "id": "QE7WO3fN5G-v",
        "colab_type": "code",
        "outputId": "3b2d62b3-0a9d-493e-d111-592c1b07407f",
        "colab": {
          "base_uri": "https://localhost:8080/",
          "height": 136
        }
      },
      "source": [
        "\"\"\"\n",
        "\n",
        "영화 평점 데이터 기반으로 콘텐츠 기반 협업 필터링 추천 시스템 설계\n",
        "data load : https://grouplens.org/datasets/movielens/latest/\n",
        "\n",
        "\"\"\"\n",
        "!unzip ml-latest-small.zip"
      ],
      "execution_count": 4,
      "outputs": [
        {
          "output_type": "stream",
          "text": [
            "Archive:  ml-latest-small.zip\n",
            "   creating: ml-latest-small/\n",
            "  inflating: ml-latest-small/links.csv  \n",
            "  inflating: ml-latest-small/tags.csv  \n",
            "  inflating: ml-latest-small/ratings.csv  \n",
            "  inflating: ml-latest-small/README.txt  \n",
            "  inflating: ml-latest-small/movies.csv  \n"
          ],
          "name": "stdout"
        }
      ]
    },
    {
      "cell_type": "code",
      "metadata": {
        "id": "R0Z-GryfCDgT",
        "colab_type": "code",
        "colab": {}
      },
      "source": [
        "import warnings\n",
        "warnings.filterwarnings('ignore')\n",
        "import pandas as pd\n",
        "pd.options.display.max_rows = 50\n",
        "pd.options.display.max_columns = 10\n",
        "from sklearn.metrics.pairwise import cosine_similarity\n",
        "from sklearn.metrics import mean_squared_error\n",
        "import numpy as np"
      ],
      "execution_count": 0,
      "outputs": []
    },
    {
      "cell_type": "code",
      "metadata": {
        "id": "DDPg1wTkBxSs",
        "colab_type": "code",
        "outputId": "c65584f5-fd42-4755-b9cd-34995f0b10ab",
        "colab": {
          "base_uri": "https://localhost:8080/",
          "height": 221
        }
      },
      "source": [
        "movies = pd.read_csv('./ml-latest-small/movies.csv')\n",
        "print(movies.shape)\n",
        "movies.head()"
      ],
      "execution_count": 122,
      "outputs": [
        {
          "output_type": "stream",
          "text": [
            "(9742, 3)\n"
          ],
          "name": "stdout"
        },
        {
          "output_type": "execute_result",
          "data": {
            "text/html": [
              "<div>\n",
              "<style scoped>\n",
              "    .dataframe tbody tr th:only-of-type {\n",
              "        vertical-align: middle;\n",
              "    }\n",
              "\n",
              "    .dataframe tbody tr th {\n",
              "        vertical-align: top;\n",
              "    }\n",
              "\n",
              "    .dataframe thead th {\n",
              "        text-align: right;\n",
              "    }\n",
              "</style>\n",
              "<table border=\"1\" class=\"dataframe\">\n",
              "  <thead>\n",
              "    <tr style=\"text-align: right;\">\n",
              "      <th></th>\n",
              "      <th>movieId</th>\n",
              "      <th>title</th>\n",
              "      <th>genres</th>\n",
              "    </tr>\n",
              "  </thead>\n",
              "  <tbody>\n",
              "    <tr>\n",
              "      <th>0</th>\n",
              "      <td>1</td>\n",
              "      <td>Toy Story (1995)</td>\n",
              "      <td>Adventure|Animation|Children|Comedy|Fantasy</td>\n",
              "    </tr>\n",
              "    <tr>\n",
              "      <th>1</th>\n",
              "      <td>2</td>\n",
              "      <td>Jumanji (1995)</td>\n",
              "      <td>Adventure|Children|Fantasy</td>\n",
              "    </tr>\n",
              "    <tr>\n",
              "      <th>2</th>\n",
              "      <td>3</td>\n",
              "      <td>Grumpier Old Men (1995)</td>\n",
              "      <td>Comedy|Romance</td>\n",
              "    </tr>\n",
              "    <tr>\n",
              "      <th>3</th>\n",
              "      <td>4</td>\n",
              "      <td>Waiting to Exhale (1995)</td>\n",
              "      <td>Comedy|Drama|Romance</td>\n",
              "    </tr>\n",
              "    <tr>\n",
              "      <th>4</th>\n",
              "      <td>5</td>\n",
              "      <td>Father of the Bride Part II (1995)</td>\n",
              "      <td>Comedy</td>\n",
              "    </tr>\n",
              "  </tbody>\n",
              "</table>\n",
              "</div>"
            ],
            "text/plain": [
              "   movieId                               title  \\\n",
              "0        1                    Toy Story (1995)   \n",
              "1        2                      Jumanji (1995)   \n",
              "2        3             Grumpier Old Men (1995)   \n",
              "3        4            Waiting to Exhale (1995)   \n",
              "4        5  Father of the Bride Part II (1995)   \n",
              "\n",
              "                                        genres  \n",
              "0  Adventure|Animation|Children|Comedy|Fantasy  \n",
              "1                   Adventure|Children|Fantasy  \n",
              "2                               Comedy|Romance  \n",
              "3                         Comedy|Drama|Romance  \n",
              "4                                       Comedy  "
            ]
          },
          "metadata": {
            "tags": []
          },
          "execution_count": 122
        }
      ]
    },
    {
      "cell_type": "code",
      "metadata": {
        "id": "YQCsSeGXCY7f",
        "colab_type": "code",
        "outputId": "fc57d0b5-e6da-4712-ed1b-9af5e03dc0d6",
        "colab": {
          "base_uri": "https://localhost:8080/",
          "height": 221
        }
      },
      "source": [
        "ratings = pd.read_csv('./ml-latest-small/ratings.csv')\n",
        "print(ratings.shape)\n",
        "ratings.head()"
      ],
      "execution_count": 123,
      "outputs": [
        {
          "output_type": "stream",
          "text": [
            "(100836, 4)\n"
          ],
          "name": "stdout"
        },
        {
          "output_type": "execute_result",
          "data": {
            "text/html": [
              "<div>\n",
              "<style scoped>\n",
              "    .dataframe tbody tr th:only-of-type {\n",
              "        vertical-align: middle;\n",
              "    }\n",
              "\n",
              "    .dataframe tbody tr th {\n",
              "        vertical-align: top;\n",
              "    }\n",
              "\n",
              "    .dataframe thead th {\n",
              "        text-align: right;\n",
              "    }\n",
              "</style>\n",
              "<table border=\"1\" class=\"dataframe\">\n",
              "  <thead>\n",
              "    <tr style=\"text-align: right;\">\n",
              "      <th></th>\n",
              "      <th>userId</th>\n",
              "      <th>movieId</th>\n",
              "      <th>rating</th>\n",
              "      <th>timestamp</th>\n",
              "    </tr>\n",
              "  </thead>\n",
              "  <tbody>\n",
              "    <tr>\n",
              "      <th>0</th>\n",
              "      <td>1</td>\n",
              "      <td>1</td>\n",
              "      <td>4.0</td>\n",
              "      <td>964982703</td>\n",
              "    </tr>\n",
              "    <tr>\n",
              "      <th>1</th>\n",
              "      <td>1</td>\n",
              "      <td>3</td>\n",
              "      <td>4.0</td>\n",
              "      <td>964981247</td>\n",
              "    </tr>\n",
              "    <tr>\n",
              "      <th>2</th>\n",
              "      <td>1</td>\n",
              "      <td>6</td>\n",
              "      <td>4.0</td>\n",
              "      <td>964982224</td>\n",
              "    </tr>\n",
              "    <tr>\n",
              "      <th>3</th>\n",
              "      <td>1</td>\n",
              "      <td>47</td>\n",
              "      <td>5.0</td>\n",
              "      <td>964983815</td>\n",
              "    </tr>\n",
              "    <tr>\n",
              "      <th>4</th>\n",
              "      <td>1</td>\n",
              "      <td>50</td>\n",
              "      <td>5.0</td>\n",
              "      <td>964982931</td>\n",
              "    </tr>\n",
              "  </tbody>\n",
              "</table>\n",
              "</div>"
            ],
            "text/plain": [
              "   userId  movieId  rating  timestamp\n",
              "0       1        1     4.0  964982703\n",
              "1       1        3     4.0  964981247\n",
              "2       1        6     4.0  964982224\n",
              "3       1       47     5.0  964983815\n",
              "4       1       50     5.0  964982931"
            ]
          },
          "metadata": {
            "tags": []
          },
          "execution_count": 123
        }
      ]
    },
    {
      "cell_type": "code",
      "metadata": {
        "id": "KbBM22xyCjZb",
        "colab_type": "code",
        "colab": {}
      },
      "source": [
        "ratings = ratings[['userId', 'movieId', 'rating']]\n",
        "rating_movies = pd.merge(ratings, movies, on='movieId')\n",
        "ratings_matrix = rating_movies.pivot_table('rating', index='userId', columns='title')"
      ],
      "execution_count": 0,
      "outputs": []
    },
    {
      "cell_type": "code",
      "metadata": {
        "id": "eApf6mpUEA9v",
        "colab_type": "code",
        "colab": {}
      },
      "source": [
        "ratings_matrix.fillna(0, inplace=True)"
      ],
      "execution_count": 0,
      "outputs": []
    },
    {
      "cell_type": "code",
      "metadata": {
        "id": "4C9l_6GSEU5T",
        "colab_type": "code",
        "outputId": "54eeb27e-2508-4020-c6cf-113b10195112",
        "colab": {
          "base_uri": "https://localhost:8080/",
          "height": 264
        }
      },
      "source": [
        "# 영화 간 유사도 확인. 이를 위해 df 행과 열 전환해야 함. cosin 유사도는 행간 유사도 측정하기 때문\n",
        "ratings_matrix_T = ratings_matrix.transpose()\n",
        "ratings_matrix_T.head()"
      ],
      "execution_count": 126,
      "outputs": [
        {
          "output_type": "execute_result",
          "data": {
            "text/html": [
              "<div>\n",
              "<style scoped>\n",
              "    .dataframe tbody tr th:only-of-type {\n",
              "        vertical-align: middle;\n",
              "    }\n",
              "\n",
              "    .dataframe tbody tr th {\n",
              "        vertical-align: top;\n",
              "    }\n",
              "\n",
              "    .dataframe thead th {\n",
              "        text-align: right;\n",
              "    }\n",
              "</style>\n",
              "<table border=\"1\" class=\"dataframe\">\n",
              "  <thead>\n",
              "    <tr style=\"text-align: right;\">\n",
              "      <th>userId</th>\n",
              "      <th>1</th>\n",
              "      <th>2</th>\n",
              "      <th>3</th>\n",
              "      <th>4</th>\n",
              "      <th>5</th>\n",
              "      <th>...</th>\n",
              "      <th>606</th>\n",
              "      <th>607</th>\n",
              "      <th>608</th>\n",
              "      <th>609</th>\n",
              "      <th>610</th>\n",
              "    </tr>\n",
              "    <tr>\n",
              "      <th>title</th>\n",
              "      <th></th>\n",
              "      <th></th>\n",
              "      <th></th>\n",
              "      <th></th>\n",
              "      <th></th>\n",
              "      <th></th>\n",
              "      <th></th>\n",
              "      <th></th>\n",
              "      <th></th>\n",
              "      <th></th>\n",
              "      <th></th>\n",
              "    </tr>\n",
              "  </thead>\n",
              "  <tbody>\n",
              "    <tr>\n",
              "      <th>'71 (2014)</th>\n",
              "      <td>0.0</td>\n",
              "      <td>0.0</td>\n",
              "      <td>0.0</td>\n",
              "      <td>0.0</td>\n",
              "      <td>0.0</td>\n",
              "      <td>...</td>\n",
              "      <td>0.0</td>\n",
              "      <td>0.0</td>\n",
              "      <td>0.0</td>\n",
              "      <td>0.0</td>\n",
              "      <td>4.0</td>\n",
              "    </tr>\n",
              "    <tr>\n",
              "      <th>'Hellboy': The Seeds of Creation (2004)</th>\n",
              "      <td>0.0</td>\n",
              "      <td>0.0</td>\n",
              "      <td>0.0</td>\n",
              "      <td>0.0</td>\n",
              "      <td>0.0</td>\n",
              "      <td>...</td>\n",
              "      <td>0.0</td>\n",
              "      <td>0.0</td>\n",
              "      <td>0.0</td>\n",
              "      <td>0.0</td>\n",
              "      <td>0.0</td>\n",
              "    </tr>\n",
              "    <tr>\n",
              "      <th>'Round Midnight (1986)</th>\n",
              "      <td>0.0</td>\n",
              "      <td>0.0</td>\n",
              "      <td>0.0</td>\n",
              "      <td>0.0</td>\n",
              "      <td>0.0</td>\n",
              "      <td>...</td>\n",
              "      <td>0.0</td>\n",
              "      <td>0.0</td>\n",
              "      <td>0.0</td>\n",
              "      <td>0.0</td>\n",
              "      <td>0.0</td>\n",
              "    </tr>\n",
              "    <tr>\n",
              "      <th>'Salem's Lot (2004)</th>\n",
              "      <td>0.0</td>\n",
              "      <td>0.0</td>\n",
              "      <td>0.0</td>\n",
              "      <td>0.0</td>\n",
              "      <td>0.0</td>\n",
              "      <td>...</td>\n",
              "      <td>0.0</td>\n",
              "      <td>0.0</td>\n",
              "      <td>0.0</td>\n",
              "      <td>0.0</td>\n",
              "      <td>0.0</td>\n",
              "    </tr>\n",
              "    <tr>\n",
              "      <th>'Til There Was You (1997)</th>\n",
              "      <td>0.0</td>\n",
              "      <td>0.0</td>\n",
              "      <td>0.0</td>\n",
              "      <td>0.0</td>\n",
              "      <td>0.0</td>\n",
              "      <td>...</td>\n",
              "      <td>0.0</td>\n",
              "      <td>0.0</td>\n",
              "      <td>0.0</td>\n",
              "      <td>0.0</td>\n",
              "      <td>0.0</td>\n",
              "    </tr>\n",
              "  </tbody>\n",
              "</table>\n",
              "<p>5 rows × 610 columns</p>\n",
              "</div>"
            ],
            "text/plain": [
              "userId                                   1    2    3    4    5    ...  606  \\\n",
              "title                                                             ...        \n",
              "'71 (2014)                               0.0  0.0  0.0  0.0  0.0  ...  0.0   \n",
              "'Hellboy': The Seeds of Creation (2004)  0.0  0.0  0.0  0.0  0.0  ...  0.0   \n",
              "'Round Midnight (1986)                   0.0  0.0  0.0  0.0  0.0  ...  0.0   \n",
              "'Salem's Lot (2004)                      0.0  0.0  0.0  0.0  0.0  ...  0.0   \n",
              "'Til There Was You (1997)                0.0  0.0  0.0  0.0  0.0  ...  0.0   \n",
              "\n",
              "userId                                   607  608  609  610  \n",
              "title                                                        \n",
              "'71 (2014)                               0.0  0.0  0.0  4.0  \n",
              "'Hellboy': The Seeds of Creation (2004)  0.0  0.0  0.0  0.0  \n",
              "'Round Midnight (1986)                   0.0  0.0  0.0  0.0  \n",
              "'Salem's Lot (2004)                      0.0  0.0  0.0  0.0  \n",
              "'Til There Was You (1997)                0.0  0.0  0.0  0.0  \n",
              "\n",
              "[5 rows x 610 columns]"
            ]
          },
          "metadata": {
            "tags": []
          },
          "execution_count": 126
        }
      ]
    },
    {
      "cell_type": "code",
      "metadata": {
        "id": "gpc6MQ7WEyDN",
        "colab_type": "code",
        "outputId": "a6c753d9-fd09-4d85-f8bc-e635e7b82898",
        "colab": {
          "base_uri": "https://localhost:8080/",
          "height": 287
        }
      },
      "source": [
        "item_sim = cosine_similarity(ratings_matrix_T, ratings_matrix_T)\n",
        "item_sim_df = pd.DataFrame(data=item_sim, index=ratings_matrix.columns, columns=ratings_matrix.columns)\n",
        "print(item_sim_df.shape)\n",
        "item_sim_df.head(3)"
      ],
      "execution_count": 127,
      "outputs": [
        {
          "output_type": "stream",
          "text": [
            "(9719, 9719)\n"
          ],
          "name": "stdout"
        },
        {
          "output_type": "execute_result",
          "data": {
            "text/html": [
              "<div>\n",
              "<style scoped>\n",
              "    .dataframe tbody tr th:only-of-type {\n",
              "        vertical-align: middle;\n",
              "    }\n",
              "\n",
              "    .dataframe tbody tr th {\n",
              "        vertical-align: top;\n",
              "    }\n",
              "\n",
              "    .dataframe thead th {\n",
              "        text-align: right;\n",
              "    }\n",
              "</style>\n",
              "<table border=\"1\" class=\"dataframe\">\n",
              "  <thead>\n",
              "    <tr style=\"text-align: right;\">\n",
              "      <th>title</th>\n",
              "      <th>'71 (2014)</th>\n",
              "      <th>'Hellboy': The Seeds of Creation (2004)</th>\n",
              "      <th>'Round Midnight (1986)</th>\n",
              "      <th>'Salem's Lot (2004)</th>\n",
              "      <th>'Til There Was You (1997)</th>\n",
              "      <th>...</th>\n",
              "      <th>eXistenZ (1999)</th>\n",
              "      <th>xXx (2002)</th>\n",
              "      <th>xXx: State of the Union (2005)</th>\n",
              "      <th>¡Three Amigos! (1986)</th>\n",
              "      <th>À nous la liberté (Freedom for Us) (1931)</th>\n",
              "    </tr>\n",
              "    <tr>\n",
              "      <th>title</th>\n",
              "      <th></th>\n",
              "      <th></th>\n",
              "      <th></th>\n",
              "      <th></th>\n",
              "      <th></th>\n",
              "      <th></th>\n",
              "      <th></th>\n",
              "      <th></th>\n",
              "      <th></th>\n",
              "      <th></th>\n",
              "      <th></th>\n",
              "    </tr>\n",
              "  </thead>\n",
              "  <tbody>\n",
              "    <tr>\n",
              "      <th>'71 (2014)</th>\n",
              "      <td>1.0</td>\n",
              "      <td>0.000000</td>\n",
              "      <td>0.000000</td>\n",
              "      <td>0.0</td>\n",
              "      <td>0.0</td>\n",
              "      <td>...</td>\n",
              "      <td>0.0</td>\n",
              "      <td>0.139431</td>\n",
              "      <td>0.327327</td>\n",
              "      <td>0.0</td>\n",
              "      <td>0.0</td>\n",
              "    </tr>\n",
              "    <tr>\n",
              "      <th>'Hellboy': The Seeds of Creation (2004)</th>\n",
              "      <td>0.0</td>\n",
              "      <td>1.000000</td>\n",
              "      <td>0.707107</td>\n",
              "      <td>0.0</td>\n",
              "      <td>0.0</td>\n",
              "      <td>...</td>\n",
              "      <td>0.0</td>\n",
              "      <td>0.000000</td>\n",
              "      <td>0.000000</td>\n",
              "      <td>0.0</td>\n",
              "      <td>0.0</td>\n",
              "    </tr>\n",
              "    <tr>\n",
              "      <th>'Round Midnight (1986)</th>\n",
              "      <td>0.0</td>\n",
              "      <td>0.707107</td>\n",
              "      <td>1.000000</td>\n",
              "      <td>0.0</td>\n",
              "      <td>0.0</td>\n",
              "      <td>...</td>\n",
              "      <td>0.0</td>\n",
              "      <td>0.000000</td>\n",
              "      <td>0.000000</td>\n",
              "      <td>0.0</td>\n",
              "      <td>0.0</td>\n",
              "    </tr>\n",
              "  </tbody>\n",
              "</table>\n",
              "<p>3 rows × 9719 columns</p>\n",
              "</div>"
            ],
            "text/plain": [
              "title                                    '71 (2014)  \\\n",
              "title                                                 \n",
              "'71 (2014)                                      1.0   \n",
              "'Hellboy': The Seeds of Creation (2004)         0.0   \n",
              "'Round Midnight (1986)                          0.0   \n",
              "\n",
              "title                                    'Hellboy': The Seeds of Creation (2004)  \\\n",
              "title                                                                              \n",
              "'71 (2014)                                                              0.000000   \n",
              "'Hellboy': The Seeds of Creation (2004)                                 1.000000   \n",
              "'Round Midnight (1986)                                                  0.707107   \n",
              "\n",
              "title                                    'Round Midnight (1986)  \\\n",
              "title                                                             \n",
              "'71 (2014)                                             0.000000   \n",
              "'Hellboy': The Seeds of Creation (2004)                0.707107   \n",
              "'Round Midnight (1986)                                 1.000000   \n",
              "\n",
              "title                                    'Salem's Lot (2004)  \\\n",
              "title                                                          \n",
              "'71 (2014)                                               0.0   \n",
              "'Hellboy': The Seeds of Creation (2004)                  0.0   \n",
              "'Round Midnight (1986)                                   0.0   \n",
              "\n",
              "title                                    'Til There Was You (1997)  ...  \\\n",
              "title                                                               ...   \n",
              "'71 (2014)                                                     0.0  ...   \n",
              "'Hellboy': The Seeds of Creation (2004)                        0.0  ...   \n",
              "'Round Midnight (1986)                                         0.0  ...   \n",
              "\n",
              "title                                    eXistenZ (1999)  xXx (2002)  \\\n",
              "title                                                                  \n",
              "'71 (2014)                                           0.0    0.139431   \n",
              "'Hellboy': The Seeds of Creation (2004)              0.0    0.000000   \n",
              "'Round Midnight (1986)                               0.0    0.000000   \n",
              "\n",
              "title                                    xXx: State of the Union (2005)  \\\n",
              "title                                                                     \n",
              "'71 (2014)                                                     0.327327   \n",
              "'Hellboy': The Seeds of Creation (2004)                        0.000000   \n",
              "'Round Midnight (1986)                                         0.000000   \n",
              "\n",
              "title                                    ¡Three Amigos! (1986)  \\\n",
              "title                                                            \n",
              "'71 (2014)                                                 0.0   \n",
              "'Hellboy': The Seeds of Creation (2004)                    0.0   \n",
              "'Round Midnight (1986)                                     0.0   \n",
              "\n",
              "title                                    À nous la liberté (Freedom for Us) (1931)  \n",
              "title                                                                               \n",
              "'71 (2014)                                                                     0.0  \n",
              "'Hellboy': The Seeds of Creation (2004)                                        0.0  \n",
              "'Round Midnight (1986)                                                         0.0  \n",
              "\n",
              "[3 rows x 9719 columns]"
            ]
          },
          "metadata": {
            "tags": []
          },
          "execution_count": 127
        }
      ]
    },
    {
      "cell_type": "code",
      "metadata": {
        "id": "qzAduiZVGlu3",
        "colab_type": "code",
        "outputId": "ef85116c-2da9-493e-ec3d-407be5c841cc",
        "colab": {
          "base_uri": "https://localhost:8080/",
          "height": 153
        }
      },
      "source": [
        "item_sim_df['Godfather, The (1972)'].sort_values(ascending=False)[:6]"
      ],
      "execution_count": 128,
      "outputs": [
        {
          "output_type": "execute_result",
          "data": {
            "text/plain": [
              "title\n",
              "Godfather, The (1972)                        1.000000\n",
              "Godfather: Part II, The (1974)               0.821773\n",
              "Goodfellas (1990)                            0.664841\n",
              "One Flew Over the Cuckoo's Nest (1975)       0.620536\n",
              "Star Wars: Episode IV - A New Hope (1977)    0.595317\n",
              "Fargo (1996)                                 0.588614\n",
              "Name: Godfather, The (1972), dtype: float64"
            ]
          },
          "metadata": {
            "tags": []
          },
          "execution_count": 128
        }
      ]
    },
    {
      "cell_type": "code",
      "metadata": {
        "id": "zJNX7dI-HWRP",
        "colab_type": "code",
        "outputId": "a54c2941-9d48-4348-f3c9-3539e54bf790",
        "colab": {
          "base_uri": "https://localhost:8080/",
          "height": 153
        }
      },
      "source": [
        "item_sim_df['Inception (2010)'].sort_values(ascending=False)[:6]"
      ],
      "execution_count": 129,
      "outputs": [
        {
          "output_type": "execute_result",
          "data": {
            "text/plain": [
              "title\n",
              "Inception (2010)                 1.000000\n",
              "Dark Knight, The (2008)          0.727263\n",
              "Inglourious Basterds (2009)      0.646103\n",
              "Shutter Island (2010)            0.617736\n",
              "Dark Knight Rises, The (2012)    0.617504\n",
              "Fight Club (1999)                0.615417\n",
              "Name: Inception (2010), dtype: float64"
            ]
          },
          "metadata": {
            "tags": []
          },
          "execution_count": 129
        }
      ]
    },
    {
      "cell_type": "code",
      "metadata": {
        "id": "ZOQnpmgmKjwA",
        "colab_type": "code",
        "colab": {}
      },
      "source": [
        "def predict_rating(ratings_arr, item_sim_arr):\n",
        "  ratings_pred = ratings_arr.dot(item_sim_arr)/np.array([np.abs(item_sim_arr).sum(axis=1)])\n",
        "  return ratings_pred"
      ],
      "execution_count": 0,
      "outputs": []
    },
    {
      "cell_type": "code",
      "metadata": {
        "id": "SWdvsx4Ncuh1",
        "colab_type": "code",
        "colab": {}
      },
      "source": [
        "ratings_pred = predict_rating(ratings_matrix.values, item_sim_df.values)\n",
        "ratings_pred_matrix = pd.DataFrame(data=ratings_pred, index=ratings_matrix.index, columns=ratings_matrix.columns)"
      ],
      "execution_count": 0,
      "outputs": []
    },
    {
      "cell_type": "code",
      "metadata": {
        "id": "r1r8b9Vvdqxw",
        "colab_type": "code",
        "colab": {
          "base_uri": "https://localhost:8080/",
          "height": 236
        },
        "outputId": "899a4e6b-0196-4c9e-d144-da60419abab1"
      },
      "source": [
        "ratings_pred_matrix.head(3)"
      ],
      "execution_count": 132,
      "outputs": [
        {
          "output_type": "execute_result",
          "data": {
            "text/html": [
              "<div>\n",
              "<style scoped>\n",
              "    .dataframe tbody tr th:only-of-type {\n",
              "        vertical-align: middle;\n",
              "    }\n",
              "\n",
              "    .dataframe tbody tr th {\n",
              "        vertical-align: top;\n",
              "    }\n",
              "\n",
              "    .dataframe thead th {\n",
              "        text-align: right;\n",
              "    }\n",
              "</style>\n",
              "<table border=\"1\" class=\"dataframe\">\n",
              "  <thead>\n",
              "    <tr style=\"text-align: right;\">\n",
              "      <th>title</th>\n",
              "      <th>'71 (2014)</th>\n",
              "      <th>'Hellboy': The Seeds of Creation (2004)</th>\n",
              "      <th>'Round Midnight (1986)</th>\n",
              "      <th>'Salem's Lot (2004)</th>\n",
              "      <th>'Til There Was You (1997)</th>\n",
              "      <th>...</th>\n",
              "      <th>eXistenZ (1999)</th>\n",
              "      <th>xXx (2002)</th>\n",
              "      <th>xXx: State of the Union (2005)</th>\n",
              "      <th>¡Three Amigos! (1986)</th>\n",
              "      <th>À nous la liberté (Freedom for Us) (1931)</th>\n",
              "    </tr>\n",
              "    <tr>\n",
              "      <th>userId</th>\n",
              "      <th></th>\n",
              "      <th></th>\n",
              "      <th></th>\n",
              "      <th></th>\n",
              "      <th></th>\n",
              "      <th></th>\n",
              "      <th></th>\n",
              "      <th></th>\n",
              "      <th></th>\n",
              "      <th></th>\n",
              "      <th></th>\n",
              "    </tr>\n",
              "  </thead>\n",
              "  <tbody>\n",
              "    <tr>\n",
              "      <th>1</th>\n",
              "      <td>0.070345</td>\n",
              "      <td>0.577855</td>\n",
              "      <td>0.321696</td>\n",
              "      <td>0.227055</td>\n",
              "      <td>0.206958</td>\n",
              "      <td>...</td>\n",
              "      <td>0.212070</td>\n",
              "      <td>0.192921</td>\n",
              "      <td>0.136024</td>\n",
              "      <td>0.292955</td>\n",
              "      <td>0.720347</td>\n",
              "    </tr>\n",
              "    <tr>\n",
              "      <th>2</th>\n",
              "      <td>0.018260</td>\n",
              "      <td>0.042744</td>\n",
              "      <td>0.018861</td>\n",
              "      <td>0.000000</td>\n",
              "      <td>0.000000</td>\n",
              "      <td>...</td>\n",
              "      <td>0.014876</td>\n",
              "      <td>0.021616</td>\n",
              "      <td>0.024528</td>\n",
              "      <td>0.017563</td>\n",
              "      <td>0.000000</td>\n",
              "    </tr>\n",
              "    <tr>\n",
              "      <th>3</th>\n",
              "      <td>0.011884</td>\n",
              "      <td>0.030279</td>\n",
              "      <td>0.064437</td>\n",
              "      <td>0.003762</td>\n",
              "      <td>0.003749</td>\n",
              "      <td>...</td>\n",
              "      <td>0.008194</td>\n",
              "      <td>0.007017</td>\n",
              "      <td>0.009229</td>\n",
              "      <td>0.010420</td>\n",
              "      <td>0.084501</td>\n",
              "    </tr>\n",
              "  </tbody>\n",
              "</table>\n",
              "<p>3 rows × 9719 columns</p>\n",
              "</div>"
            ],
            "text/plain": [
              "title   '71 (2014)  'Hellboy': The Seeds of Creation (2004)  \\\n",
              "userId                                                        \n",
              "1         0.070345                                 0.577855   \n",
              "2         0.018260                                 0.042744   \n",
              "3         0.011884                                 0.030279   \n",
              "\n",
              "title   'Round Midnight (1986)  'Salem's Lot (2004)  \\\n",
              "userId                                                \n",
              "1                     0.321696             0.227055   \n",
              "2                     0.018861             0.000000   \n",
              "3                     0.064437             0.003762   \n",
              "\n",
              "title   'Til There Was You (1997)  ...  eXistenZ (1999)  xXx (2002)  \\\n",
              "userId                             ...                                \n",
              "1                        0.206958  ...         0.212070    0.192921   \n",
              "2                        0.000000  ...         0.014876    0.021616   \n",
              "3                        0.003749  ...         0.008194    0.007017   \n",
              "\n",
              "title   xXx: State of the Union (2005)  ¡Three Amigos! (1986)  \\\n",
              "userId                                                          \n",
              "1                             0.136024               0.292955   \n",
              "2                             0.024528               0.017563   \n",
              "3                             0.009229               0.010420   \n",
              "\n",
              "title   À nous la liberté (Freedom for Us) (1931)  \n",
              "userId                                             \n",
              "1                                        0.720347  \n",
              "2                                        0.000000  \n",
              "3                                        0.084501  \n",
              "\n",
              "[3 rows x 9719 columns]"
            ]
          },
          "metadata": {
            "tags": []
          },
          "execution_count": 132
        }
      ]
    },
    {
      "cell_type": "code",
      "metadata": {
        "id": "Ec4fAwwbegtp",
        "colab_type": "code",
        "colab": {}
      },
      "source": [
        "# 사용자가 평점을 부여한 영화에 대해서만 예측 성능 평가 MSE를 구함\n",
        "def get_mse(pred, actual):\n",
        "  # 평점이 있는 실제 영화만 추출\n",
        "  pred = pred[actual.nonzero()].flatten()\n",
        "  actual = actual[actual.nonzero()].flatten()\n",
        "  return mean_squared_error(pred, actual)"
      ],
      "execution_count": 0,
      "outputs": []
    },
    {
      "cell_type": "code",
      "metadata": {
        "id": "s5KkKsrAgKFV",
        "colab_type": "code",
        "colab": {
          "base_uri": "https://localhost:8080/",
          "height": 34
        },
        "outputId": "2b773a39-880a-4bfb-8c2a-e572a4b734d3"
      },
      "source": [
        "print('아이템 기반 모든 최근접 이웃 MSE :', get_mse(ratings_pred, ratings_matrix.values))"
      ],
      "execution_count": 134,
      "outputs": [
        {
          "output_type": "stream",
          "text": [
            "아이템 기반 모든 최근접 이웃 MSE : 9.895354759094706\n"
          ],
          "name": "stdout"
        }
      ]
    },
    {
      "cell_type": "code",
      "metadata": {
        "id": "JXisk2itgo2k",
        "colab_type": "code",
        "colab": {}
      },
      "source": [
        "# 결과 좋지 않다. 특정 영화와 가장 비슷한 유사도를 가지는 영화에 대해서만 유사도 벡터를 적용하는 함수로 변경"
      ],
      "execution_count": 0,
      "outputs": []
    },
    {
      "cell_type": "code",
      "metadata": {
        "id": "auOxB6mCm3nj",
        "colab_type": "code",
        "colab": {}
      },
      "source": [
        "def predict_rating_topsim(ratings_arr, item_sim_arr, n=20):\n",
        "  # 사용자-아이템 평점 행렬 크기만큼 0으로 채운 예측 행렬 초기화\n",
        "  pred = np.zeros(ratings_arr.shape)\n",
        "  \n",
        "  # 사용자-아이템 평점 행렬의 열 크기만큼 루프 수행\n",
        "  for col in range(ratings_arr.shape[1]):\n",
        "    # 유사도 행렬에서 유사도가 큰 순으로 n개 데이터 행렬의 인덱스 반환\n",
        "    top_n_items = [np.argsort(item_sim_arr[:, col])[:-n-1:-1]]\n",
        "    # 위의 코드와 동일\n",
        "    # top_n_items = [np.argsort(item_sim_arr[:, col])[::-1][:20]\n",
        "    # 개인화된 예측 평점을 계산\n",
        "    for row in range(ratings_arr.shape[0]):\n",
        "      pred[row, col] = item_sim_arr[col, :][top_n_items].dot(ratings_arr[row, :][top_n_items].T)\n",
        "      pred[row, col] /= np.sum(np.abs(item_sim_arr[col, :][top_n_items]))\n",
        "      \n",
        "  return pred"
      ],
      "execution_count": 0,
      "outputs": []
    },
    {
      "cell_type": "code",
      "metadata": {
        "id": "iL2RqxAunWKA",
        "colab_type": "code",
        "colab": {
          "base_uri": "https://localhost:8080/",
          "height": 34
        },
        "outputId": "36364476-00d4-49d8-bdc5-33180a3978cf"
      },
      "source": [
        "ratings_pred = predict_rating_topsim(ratings_matrix.values, item_sim_df.values, n=20)\n",
        "print('아이템 기반 최근접 top-20 이웃 mse : ', get_mse(ratings_pred, ratings_matrix.values))"
      ],
      "execution_count": 137,
      "outputs": [
        {
          "output_type": "stream",
          "text": [
            "아이템 기반 최근접 top-20 이웃 mse :  3.6949827608772314\n"
          ],
          "name": "stdout"
        }
      ]
    },
    {
      "cell_type": "code",
      "metadata": {
        "id": "_f8kxOwDnXKH",
        "colab_type": "code",
        "colab": {}
      },
      "source": [
        "ratings_pred_matrix = pd.DataFrame(data=ratings_pred, index=ratings_matrix.index, columns=ratings_matrix.columns)"
      ],
      "execution_count": 0,
      "outputs": []
    },
    {
      "cell_type": "code",
      "metadata": {
        "id": "R1eLJXLjvL_7",
        "colab_type": "code",
        "colab": {
          "base_uri": "https://localhost:8080/",
          "height": 221
        },
        "outputId": "ac7bc146-2947-41e6-85b7-16d84538cc45"
      },
      "source": [
        "# 9번 user의 평점 높은 영화 목록 10개\n",
        "user_rating_id = ratings_matrix.loc[9, :]\n",
        "user_rating_id[user_rating_id > 0].sort_values(ascending=False)[:10]"
      ],
      "execution_count": 159,
      "outputs": [
        {
          "output_type": "execute_result",
          "data": {
            "text/plain": [
              "title\n",
              "Adaptation (2002)                                                                 5.0\n",
              "Austin Powers in Goldmember (2002)                                                5.0\n",
              "Lord of the Rings: The Fellowship of the Ring, The (2001)                         5.0\n",
              "Lord of the Rings: The Two Towers, The (2002)                                     5.0\n",
              "Producers, The (1968)                                                             5.0\n",
              "Citizen Kane (1941)                                                               5.0\n",
              "Raiders of the Lost Ark (Indiana Jones and the Raiders of the Lost Ark) (1981)    5.0\n",
              "Back to the Future (1985)                                                         5.0\n",
              "Glengarry Glen Ross (1992)                                                        4.0\n",
              "Sunset Blvd. (a.k.a. Sunset Boulevard) (1950)                                     4.0\n",
              "Name: 9, dtype: float64"
            ]
          },
          "metadata": {
            "tags": []
          },
          "execution_count": 159
        }
      ]
    },
    {
      "cell_type": "code",
      "metadata": {
        "id": "18eKl-1rvlAK",
        "colab_type": "code",
        "colab": {}
      },
      "source": [
        "def get_unseen_movies(ratings_matrix, userId):\n",
        "  # userId로 입력 받은 사용자의 모든 영화 정보를 추출해 Series로 반환\n",
        "  # 반환된 user_rating은 영화명(title)을 인덱스로 가지는 Series 객체\n",
        "  user_rating = ratings_matrix.loc[userId, :]\n",
        "  aleady_seen = user_rating[user_rating > 0].index.tolist()\n",
        "  movies_list = ratings_matrix.columns.tolist()\n",
        "  unseen_list = [movie for movie in movies_list if movie not in aleady_seen]\n",
        "  return unseen_list"
      ],
      "execution_count": 0,
      "outputs": []
    },
    {
      "cell_type": "code",
      "metadata": {
        "id": "70DHslLfwDYB",
        "colab_type": "code",
        "colab": {}
      },
      "source": [
        "def recomm_movie_by_userid(pred_df, userId, unseen_list, top_n=10):\n",
        "  recomm_movies = pred_df.loc[userId, unseen_list].sort_values(ascending=False)[:top_n]\n",
        "  return recomm_movies"
      ],
      "execution_count": 0,
      "outputs": []
    },
    {
      "cell_type": "code",
      "metadata": {
        "id": "mrCiDxvLwDuo",
        "colab_type": "code",
        "colab": {}
      },
      "source": [
        "unseen_list = get_unseen_movies(ratings_matrix, 9)"
      ],
      "execution_count": 0,
      "outputs": []
    },
    {
      "cell_type": "code",
      "metadata": {
        "id": "a8ND3JG_wD7h",
        "colab_type": "code",
        "colab": {}
      },
      "source": [
        "recomm_movies = recomm_movie_by_userid(ratings_pred_matrix, 9, unseen_list, top_n=10)"
      ],
      "execution_count": 0,
      "outputs": []
    },
    {
      "cell_type": "code",
      "metadata": {
        "id": "YYHWAv0nwEFD",
        "colab_type": "code",
        "colab": {}
      },
      "source": [
        "recomm_movies = pd.DataFrame(data=recomm_movies.values, index=recomm_movies.index, columns=['pred_score'])"
      ],
      "execution_count": 0,
      "outputs": []
    },
    {
      "cell_type": "code",
      "metadata": {
        "id": "l_b_hr0txxB2",
        "colab_type": "code",
        "colab": {
          "base_uri": "https://localhost:8080/",
          "height": 390
        },
        "outputId": "942ab0aa-744a-4698-f0b8-871a37686aa5"
      },
      "source": [
        "recomm_movies"
      ],
      "execution_count": 170,
      "outputs": [
        {
          "output_type": "execute_result",
          "data": {
            "text/html": [
              "<div>\n",
              "<style scoped>\n",
              "    .dataframe tbody tr th:only-of-type {\n",
              "        vertical-align: middle;\n",
              "    }\n",
              "\n",
              "    .dataframe tbody tr th {\n",
              "        vertical-align: top;\n",
              "    }\n",
              "\n",
              "    .dataframe thead th {\n",
              "        text-align: right;\n",
              "    }\n",
              "</style>\n",
              "<table border=\"1\" class=\"dataframe\">\n",
              "  <thead>\n",
              "    <tr style=\"text-align: right;\">\n",
              "      <th></th>\n",
              "      <th>pred_score</th>\n",
              "    </tr>\n",
              "    <tr>\n",
              "      <th>title</th>\n",
              "      <th></th>\n",
              "    </tr>\n",
              "  </thead>\n",
              "  <tbody>\n",
              "    <tr>\n",
              "      <th>Shrek (2001)</th>\n",
              "      <td>0.866202</td>\n",
              "    </tr>\n",
              "    <tr>\n",
              "      <th>Spider-Man (2002)</th>\n",
              "      <td>0.857854</td>\n",
              "    </tr>\n",
              "    <tr>\n",
              "      <th>Last Samurai, The (2003)</th>\n",
              "      <td>0.817473</td>\n",
              "    </tr>\n",
              "    <tr>\n",
              "      <th>Indiana Jones and the Temple of Doom (1984)</th>\n",
              "      <td>0.816626</td>\n",
              "    </tr>\n",
              "    <tr>\n",
              "      <th>Matrix Reloaded, The (2003)</th>\n",
              "      <td>0.800990</td>\n",
              "    </tr>\n",
              "    <tr>\n",
              "      <th>Harry Potter and the Sorcerer's Stone (a.k.a. Harry Potter and the Philosopher's Stone) (2001)</th>\n",
              "      <td>0.765159</td>\n",
              "    </tr>\n",
              "    <tr>\n",
              "      <th>Gladiator (2000)</th>\n",
              "      <td>0.740956</td>\n",
              "    </tr>\n",
              "    <tr>\n",
              "      <th>Matrix, The (1999)</th>\n",
              "      <td>0.732693</td>\n",
              "    </tr>\n",
              "    <tr>\n",
              "      <th>Pirates of the Caribbean: The Curse of the Black Pearl (2003)</th>\n",
              "      <td>0.689591</td>\n",
              "    </tr>\n",
              "    <tr>\n",
              "      <th>Lord of the Rings: The Return of the King, The (2003)</th>\n",
              "      <td>0.676711</td>\n",
              "    </tr>\n",
              "  </tbody>\n",
              "</table>\n",
              "</div>"
            ],
            "text/plain": [
              "                                                    pred_score\n",
              "title                                                         \n",
              "Shrek (2001)                                          0.866202\n",
              "Spider-Man (2002)                                     0.857854\n",
              "Last Samurai, The (2003)                              0.817473\n",
              "Indiana Jones and the Temple of Doom (1984)           0.816626\n",
              "Matrix Reloaded, The (2003)                           0.800990\n",
              "Harry Potter and the Sorcerer's Stone (a.k.a. H...    0.765159\n",
              "Gladiator (2000)                                      0.740956\n",
              "Matrix, The (1999)                                    0.732693\n",
              "Pirates of the Caribbean: The Curse of the Blac...    0.689591\n",
              "Lord of the Rings: The Return of the King, The ...    0.676711"
            ]
          },
          "metadata": {
            "tags": []
          },
          "execution_count": 170
        }
      ]
    },
    {
      "cell_type": "code",
      "metadata": {
        "id": "N5YgHpn3uxHM",
        "colab_type": "code",
        "colab": {}
      },
      "source": [
        ""
      ],
      "execution_count": 0,
      "outputs": []
    }
  ]
}